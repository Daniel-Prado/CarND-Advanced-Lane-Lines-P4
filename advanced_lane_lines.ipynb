{
 "cells": [
  {
   "cell_type": "code",
   "execution_count": null,
   "metadata": {
    "collapsed": false
   },
   "outputs": [],
   "source": [
    "%%HTML\n",
    "<style> code {background-color : pink !important;} </style>"
   ]
  },
  {
   "cell_type": "markdown",
   "metadata": {},
   "source": [
    "# Advanced Lane Finding Project\n",
    "\n",
    "The goals / steps of this project are the following:\n",
    "\n",
    "* Compute the camera calibration matrix and distortion coefficients given a set of chessboard images.\n",
    "* Apply a distortion correction to raw images.\n",
    "* Use color transforms, gradients, etc., to create a thresholded binary image.\n",
    "* Apply a perspective transform to rectify binary image (\"birds-eye view\").\n",
    "* Detect lane pixels and fit to find the lane boundary.\n",
    "* Determine the curvature of the lane and vehicle position with respect to center.\n",
    "* Warp the detected lane boundaries back onto the original image.\n",
    "* Output visual display of the lane boundaries and numerical estimation of lane curvature and vehicle position.\n",
    "\n",
    "---"
   ]
  },
  {
   "cell_type": "code",
   "execution_count": 1,
   "metadata": {
    "collapsed": false
   },
   "outputs": [],
   "source": [
    "### ALL NECESSARY IMPORTS ###\n",
    "import numpy as np\n",
    "import cv2\n",
    "import glob\n",
    "import matplotlib.pyplot as plt\n",
    "import pickle\n",
    "import matplotlib.image as mpimg"
   ]
  },
  {
   "cell_type": "markdown",
   "metadata": {},
   "source": [
    "## Step 1. Camera Calibration"
   ]
  },
  {
   "cell_type": "code",
   "execution_count": null,
   "metadata": {
    "collapsed": true
   },
   "outputs": [],
   "source": [
    "\n",
    "%matplotlib qt5\n",
    "\n",
    "# prepare object points, like (0,0,0), (1,0,0), (2,0,0) ....,(6,5,0)\n",
    "objp = np.zeros((6*9,3), np.float32)\n",
    "objp[:,:2] = np.mgrid[0:9, 0:6].T.reshape(-1,2)\n",
    "\n",
    "# Arrays to store object points and image points from all the images.\n",
    "objpoints = [] # 3d points in real world space\n",
    "imgpoints = [] # 2d points in image plane.\n",
    "\n",
    "# Make a list of calibration images\n",
    "images = glob.glob('camera_cal/calibration*.jpg')\n",
    "\n",
    "# Step through the list and search for chessboard corners\n",
    "for idx, fname in enumerate(images):\n",
    "    img = cv2.imread(fname)\n",
    "    gray = cv2.cvtColor(img, cv2.COLOR_BGR2GRAY)\n",
    "\n",
    "    # Find the chessboard corners\n",
    "    ret, corners = cv2.findChessboardCorners(gray, (9,6), None)\n",
    "\n",
    "    # If found, add object points, image points\n",
    "    if ret == True:\n",
    "        objpoints.append(objp)\n",
    "        imgpoints.append(corners)\n",
    "\n",
    "        # Draw and display the corners\n",
    "        cv2.drawChessboardCorners(img, (9,6), corners, ret)\n",
    "        write_name = 'output_images/corners_found'+str(idx)+'.jpg'\n",
    "        cv2.imwrite(write_name, img)\n",
    "        cv2.imshow('img', img)\n",
    "        cv2.waitKey(100)\n",
    "\n",
    "cv2.destroyAllWindows()\n"
   ]
  },
  {
   "cell_type": "markdown",
   "metadata": {},
   "source": [
    "And now we calibrate the Camera feeding the cv2 calibrateCamera function with the lists of distorted chessboard corners, and their objpoints."
   ]
  },
  {
   "cell_type": "code",
   "execution_count": null,
   "metadata": {
    "collapsed": false
   },
   "outputs": [],
   "source": [
    "%matplotlib inline\n",
    "\n",
    "# Test undistortion on an image\n",
    "img = cv2.imread('camera_cal/calibration1.jpg')\n",
    "img_size = (img.shape[1], img.shape[0])\n",
    "\n",
    "# Do camera calibration given object points and image points\n",
    "ret, mtx, dist, rvecs, tvecs = cv2.calibrateCamera(objpoints, imgpoints, img_size,None,None)\n",
    "\n",
    "dst = cv2.undistort(img, mtx, dist, None, mtx)\n",
    "cv2.imwrite('output_images/test_undist.jpg',dst)\n",
    "\n",
    "# Save the camera calibration result for later use (we won't worry about rvecs / tvecs)\n",
    "dist_pickle = {}\n",
    "dist_pickle[\"mtx\"] = mtx\n",
    "dist_pickle[\"dist\"] = dist\n",
    "pickle.dump( dist_pickle, open( \"camera_cal/calibration_pickle.p\", \"wb\" ) )\n",
    "#dst = cv2.cvtColor(dst, cv2.COLOR_BGR2RGB)\n",
    "# Visualize undistortion\n",
    "f, (ax1, ax2) = plt.subplots(1, 2, figsize=(20,10))\n",
    "ax1.imshow(img)\n",
    "ax1.set_title('Original Image', fontsize=30)\n",
    "ax2.imshow(dst)\n",
    "ax2.set_title('Undistorted Image', fontsize=30)"
   ]
  },
  {
   "cell_type": "markdown",
   "metadata": {},
   "source": [
    "## Step 2. Applying Distorsion Correction"
   ]
  },
  {
   "cell_type": "code",
   "execution_count": null,
   "metadata": {
    "collapsed": false
   },
   "outputs": [],
   "source": [
    "# We load the distorsion pickle file data obtained in the previous section.\n",
    "dist_pickle = pickle.load( open( \"camera_cal/calibration_pickle.p\", \"rb\"))\n",
    "mtx = dist_pickle[\"mtx\"]\n",
    "dist = dist_pickle[\"dist\"]\n",
    "\n",
    "images = glob.glob('./test_images/test*.jpg')\n",
    "\n",
    "for idx, fname in enumerate(images):\n",
    "    img = cv2.imread(fname)\n",
    "    img = cv2.undistort(img, mtx, dist, None, mtx)\n",
    "\n",
    "    result = img\n",
    "    \n",
    "    write_name = './output_images/undist' + str(idx+1) + '.jpg'\n",
    "    cv2.imwrite(write_name, result)\n"
   ]
  },
  {
   "cell_type": "markdown",
   "metadata": {
    "deletable": true,
    "editable": true
   },
   "source": [
    "## Step 3. Color & Gradient Thresholds --> Binary Image"
   ]
  },
  {
   "cell_type": "markdown",
   "metadata": {},
   "source": [
    "First, we define the color and gradient threshold functions that we have seen during the lessons, so that later we can experiment with different combinations of them."
   ]
  },
  {
   "cell_type": "code",
   "execution_count": 2,
   "metadata": {
    "collapsed": true
   },
   "outputs": [],
   "source": [
    "# Define a function that takes an image, gradient orientation,\n",
    "# and threshold min / max values.\n",
    "def abs_sobel_thresh(img, orient='x', thresh=(0, 255)):\n",
    "    # Convert to grayscale\n",
    "    \n",
    "    #gray = cv2.cvtColor(img, cv2.COLOR_BGR2GRAY)\n",
    "    \n",
    "    r,g,b = cv2.split(img)\n",
    "    gray = np.uint8(.5*r+.5*g)\n",
    "\n",
    "    \n",
    "    # Apply x or y gradient with the OpenCV Sobel() function\n",
    "    # and take the absolute value\n",
    "    if orient == 'x':\n",
    "        abs_sobel = np.absolute(cv2.Sobel(gray, cv2.CV_64F, 1, 0))\n",
    "    if orient == 'y':\n",
    "        abs_sobel = np.absolute(cv2.Sobel(gray, cv2.CV_64F, 0, 1))\n",
    "    # Rescale back to 8 bit integer\n",
    "    scaled_sobel = np.uint8(255*abs_sobel/np.max(abs_sobel))\n",
    "    # Create a copy and apply the threshold\n",
    "    binary_output = np.zeros_like(scaled_sobel)\n",
    "    # Here I'm using inclusive (>=, <=) thresholds, but exclusive is ok too\n",
    "    binary_output[(scaled_sobel >= thresh[0]) & (scaled_sobel <= thresh[1])] = 1\n",
    "\n",
    "    # Return the result\n",
    "    return binary_output\n",
    "\n",
    "# Define a function to return the magnitude of the gradient\n",
    "# for a given sobel kernel size and threshold values\n",
    "def mag_thresh(img, sobel_kernel=3, thresh=(0, 255)):\n",
    "    # Convert to grayscale\n",
    "    gray = cv2.cvtColor(img, cv2.COLOR_BGR2GRAY)\n",
    "    # Take both Sobel x and y gradients\n",
    "    sobelx = cv2.Sobel(gray, cv2.CV_64F, 1, 0, ksize=sobel_kernel)\n",
    "    sobely = cv2.Sobel(gray, cv2.CV_64F, 0, 1, ksize=sobel_kernel)\n",
    "    # Calculate the gradient magnitude\n",
    "    gradmag = np.sqrt(sobelx**2 + sobely**2)\n",
    "    # Rescale to 8 bit\n",
    "    scale_factor = np.max(gradmag)/255 \n",
    "    gradmag = (gradmag/scale_factor).astype(np.uint8) \n",
    "    # Create a binary image of ones where threshold is met, zeros otherwise\n",
    "    binary_output = np.zeros_like(gradmag)\n",
    "    binary_output[(gradmag >= thresh[0]) & (gradmag <= thresh[1])] = 1\n",
    "\n",
    "    # Return the binary image\n",
    "    return binary_output\n",
    "\n",
    "# Define a function to threshold an image for a given range and Sobel kernel\n",
    "def dir_threshold(img, sobel_kernel=3, thresh=(0, np.pi/2)):\n",
    "    # Grayscale\n",
    "    gray = cv2.cvtColor(img, cv2.COLOR_BGR2GRAY)\n",
    "    # Calculate the x and y gradients\n",
    "    sobelx = cv2.Sobel(gray, cv2.CV_64F, 1, 0, ksize=sobel_kernel)\n",
    "    sobely = cv2.Sobel(gray, cv2.CV_64F, 0, 1, ksize=sobel_kernel)\n",
    "    # Take the absolute value of the gradient direction, \n",
    "    # apply a threshold, and create a binary image result\n",
    "    absgraddir = np.arctan2(np.absolute(sobely), np.absolute(sobelx))\n",
    "    binary_output =  np.zeros_like(absgraddir)\n",
    "    binary_output[(absgraddir >= thresh[0]) & (absgraddir <= thresh[1])] = 1\n",
    "\n",
    "    # Return the binary image\n",
    "    return binary_output\n",
    "\n",
    "def color_threshold(image, sthresh=(0,255), vthresh=(0,255)):\n",
    "    \n",
    "    hls = cv2.cvtColor(image, cv2.COLOR_BGR2HLS)\n",
    "    s_channel = hls[:,:,2]\n",
    "    s_binary = np.zeros_like(s_channel)\n",
    "    s_binary[ (s_channel >= sthresh[0]) & (s_channel <= sthresh[1]) ] = 1\n",
    "    \n",
    "    hsv = cv2.cvtColor(image, cv2.COLOR_RGB2HSV)\n",
    "    v_channel = hsv[:,:,2]\n",
    "    v_binary = np.zeros_like(v_channel)\n",
    "    v_binary[ (v_channel >= vthresh[0]) & (v_channel <= vthresh[1]) ] = 1\n",
    "    \n",
    "    output = np.zeros_like(s_channel)\n",
    "    output[(s_binary == 1) & (v_binary == 1)] = 1\n",
    "    \n",
    "    return output\n"
   ]
  },
  {
   "cell_type": "markdown",
   "metadata": {},
   "source": [
    "Now we obtain the preprocessed binary image a combination of GRAD_X AND GRAD_Y and the result we make an OR with Color Threshold."
   ]
  },
  {
   "cell_type": "code",
   "execution_count": 3,
   "metadata": {
    "collapsed": true,
    "deletable": true,
    "editable": true
   },
   "outputs": [],
   "source": [
    "def detect_line_borders(img):\n",
    "    preprocessImage = np.zeros_like(img[:,:,0])\n",
    "    gradx = abs_sobel_thresh(img, orient = 'x', thresh=(12,255))  # 12\n",
    "    grady = abs_sobel_thresh(img, orient = 'y', thresh=(25,255))  # 25\n",
    "    mag = mag_thresh(img, thresh=(10,255))\n",
    "    dirth = dir_threshold(img, thresh=(0.85, 1.15))\n",
    "    c_binary = color_threshold(img, sthresh=(105,255), vthresh= (205,255))\n",
    "    \n",
    "    preprocessImage[(c_binary == 1) ] = 255\n",
    "    \n",
    "    preprocessImage[(c_binary == 1) |((gradx == 1)&(grady ==1)) | ((dirth ==1)&(mag == 1))] = 255\n",
    "    \n",
    "    return preprocessImage"
   ]
  },
  {
   "cell_type": "markdown",
   "metadata": {},
   "source": [
    "### Test of Step 3"
   ]
  },
  {
   "cell_type": "markdown",
   "metadata": {},
   "source": [
    "We test the function above with the provided test images undistorted."
   ]
  },
  {
   "cell_type": "code",
   "execution_count": null,
   "metadata": {
    "collapsed": false
   },
   "outputs": [],
   "source": [
    "undist_images = glob.glob('./output_images/undist*.jpg')\n",
    "\n",
    "for idx, fname in enumerate(undist_images):\n",
    "    img = cv2.imread(fname)\n",
    "    img_size = (img.shape[1], img.shape[0])\n",
    "    \n",
    "    preprocessImage = detect_line_borders(img)\n",
    "\n",
    "    write_name = './output_images/binary' + str(idx+1) + '.jpg'\n",
    "    cv2.imwrite(write_name, preprocessImage)\n",
    "    \n",
    "    plt.imshow(preprocessImage, cmap='gray')\n",
    "    plt.show()\n"
   ]
  },
  {
   "cell_type": "markdown",
   "metadata": {},
   "source": [
    "## Step 4. Perspective Transform"
   ]
  },
  {
   "cell_type": "code",
   "execution_count": 4,
   "metadata": {
    "collapsed": true
   },
   "outputs": [],
   "source": [
    "src = np.float32([\n",
    "#    [577,460],\n",
    "#    [710,460],\n",
    "#    [260,684], \n",
    "#    [1070,684]])\n",
    "   \n",
    "    [592,450],\n",
    "    [692,450],\n",
    "    [260,684], \n",
    "    [1070,684]])\n",
    "#274,670   1047, 670\n",
    "\n",
    "dst = np.float32([\n",
    "    [320,0],\n",
    "    [960,0],\n",
    "    [320,720],\n",
    "    [960,720]])\n",
    "\n",
    "M = cv2.getPerspectiveTransform(src,dst)\n",
    "Minv = cv2.getPerspectiveTransform(dst,src)\n",
    "\n",
    "def perspective_transform_warp(img):\n",
    "    img_size = (img.shape[1], img.shape[0])\n",
    "    return cv2.warpPerspective(img,M,img_size)\n",
    "\n",
    "def perspective_transform_unwarp(img):\n",
    "    img_size = (img.shape[1], img.shape[0])\n",
    "    return cv2.warpPerspective(img,Minv,img_size)\n",
    "    "
   ]
  },
  {
   "cell_type": "markdown",
   "metadata": {
    "deletable": true,
    "editable": true
   },
   "source": [
    "We test the function above with the test images previously processed (binaries)"
   ]
  },
  {
   "cell_type": "code",
   "execution_count": null,
   "metadata": {
    "collapsed": false
   },
   "outputs": [],
   "source": [
    "\n",
    "binary_images = glob.glob('./output_images/binary*.jpg')\n",
    "undist_warped = glob.glob('./output_images/undist*.jpg')\n",
    "print(\"Warped original undistorted color images are shown just for reference\")\n",
    "for idx, fname in enumerate(zip(binary_images,undist_warped)):\n",
    "    binary = cv2.imread(fname[0])\n",
    "    binary = binary[:,:,0]\n",
    "    \n",
    "    undist = image = mpimg.imread(fname[1])\n",
    "\n",
    "    binary_warped = perspective_transform_warp(binary)\n",
    "    undist_warped = perspective_transform_warp(undist)\n",
    "    \n",
    "    f, (ax1,ax2) = plt.subplots(1,2,figsize=(24,9))\n",
    "    f.tight_layout()\n",
    "    ax1.imshow(undist_warped)\n",
    "    ax2.imshow(binary_warped,cmap='gray')\n",
    "    plt.subplots_adjust(left=0.,right=1,top=0.9,bottom=0.)\n",
    "    plt.show()\n",
    "    write_name = './output_images/warped' + str(idx+1) + '.jpg'\n",
    "    cv2.imwrite(write_name, binary_warped)\n"
   ]
  },
  {
   "cell_type": "markdown",
   "metadata": {},
   "source": [
    "## Step 5. Detect Lines"
   ]
  },
  {
   "cell_type": "code",
   "execution_count": null,
   "metadata": {
    "collapsed": false,
    "deletable": true,
    "editable": true
   },
   "outputs": [],
   "source": [
    "import tracker\n",
    "import line\n",
    "\n",
    "warped_images = glob.glob('./output_images/warped*.jpg')\n",
    "undist_images = glob.glob('./output_images/undist*.jpg')\n",
    "\n",
    "for idx, fname in enumerate(zip(warped_images, undist_images)):\n",
    "    warped = cv2.imread(fname[0])\n",
    "    warped = warped[:,:,0]\n",
    "    undist = cv2.imread(fname[1])\n",
    "    \n",
    "    # Set up the overall class to do all the tracking\n",
    "    \n",
    "    window_width = 40\n",
    "    window_height = 80\n",
    "    margin = 100    \n",
    "    ym = 40/720\n",
    "    xm = 3.7/700\n",
    "    smooth_factor = 15\n",
    "\n",
    "    \n",
    "    curve_centers = tracker.Tracker(window_width, window_height, margin, ym, xm, smooth_factor)\n",
    "    \n",
    "    window_centroids = curve_centers.find_window_centroids(warped)\n",
    "    \n",
    "    left_line_track = line.Line(warped.shape, window_height, window_width)\n",
    "    right_line_track = line.Line(warped.shape, window_height, window_width)\n",
    "    \n",
    "    # Points to draw all the left and right windows\n",
    "    l_points = np.zeros_like(warped)\n",
    "    r_points = np.zeros_like(warped)\n",
    "    \n",
    "    \n",
    "    left_line_track.update_centroids(window_centroids[:,0])\n",
    "    right_line_track.update_centroids(window_centroids[:,1])\n",
    "        \n",
    "    \n",
    "    yvals = range(0, warped.shape[0])\n",
    "    \n",
    "    #res_yvals = np.arange(warped.shape[0]-(window_height/2),0,-window_height)\n",
    "    \n",
    "    # Fit a second order polynomial to pixel positions in each fake lane line\n",
    "    \n",
    "    left_fitx, _ = left_line_track.line_fit()\n",
    "    right_fitx, _ = right_line_track.line_fit()\n",
    "    \n",
    "    y_eval = np.max(yvals)\n",
    "    \n",
    "    left_lane = left_line_track.get_lane_for_drawing()\n",
    "    right_lane = right_line_track.get_lane_for_drawing()\n",
    "    \n",
    "    # Recast the x and y points into usable format for cv2.fillPoly()\n",
    "    pts_left = np.array([np.transpose(np.vstack([left_fitx, yvals]))])\n",
    "    pts_right = np.array([np.flipud(np.transpose(np.vstack([right_fitx, yvals])))])\n",
    "    pts = np.hstack((pts_left, pts_right))\n",
    "\n",
    "    # Draw the lane onto the warped blank image \n",
    "    road = np.zeros_like(undist)\n",
    "    cv2.fillPoly(road, [left_lane], color=[255,0,0])\n",
    "    cv2.fillPoly(road, [right_lane], color=[0,0,255])\n",
    "    cv2.fillPoly(road, np.int_([pts]), (0,255, 0))\n",
    "    \n",
    "    road_warped = cv2.warpPerspective(road, Minv, img_size, flags=cv2.INTER_LINEAR)\n",
    "    result = cv2.addWeighted(undist ,1.0, road_warped, 0.5, 0.0)\n",
    "    \n",
    "    #calculate the offset of the car on the road\n",
    "    camera_center = (left_fitx[-1] + right_fitx[1])/2\n",
    "    center_diff = (camera_center-warped.shape[1]/2)* xm_per_pix\n",
    "    side_pos = 'left'\n",
    "    if center_diff <=0:\n",
    "        side_pos = 'right'\n",
    "    \n",
    "    print('Vehicle is '+ str(abs(round(center_diff,3))) + 'm ' + side_pos + 'off center')\n",
    "    \n",
    "    write_name = './output_images/result' + str(idx+1) + '.jpg'\n",
    "    cv2.imwrite(write_name, result)\n",
    "    \n",
    "    # Plot up the sliding windows and calculated lanes\n",
    "    mark_size = 3\n",
    "    plt.imshow(result)\n",
    "    plt.show()\n",
    "\n",
    "    "
   ]
  },
  {
   "cell_type": "markdown",
   "metadata": {},
   "source": [
    "# BACKUP:"
   ]
  },
  {
   "cell_type": "code",
   "execution_count": null,
   "metadata": {
    "collapsed": false
   },
   "outputs": [],
   "source": [
    "import tracker\n",
    "\n",
    "warped_images = glob.glob('./output_images/warped*.jpg')\n",
    "undist_images = glob.glob('./output_images/undist*.jpg')\n",
    "\n",
    "def window_mask(width, height, img_ref, center, level):\n",
    "    output = np.zeros_like(img_ref)\n",
    "    output[int(img_ref.shape[0]-(level+1)*height):int(img_ref.shape[0]-level*height),\n",
    "           max(0,int(center-width)):min(int(center+width),img_ref.shape[1])] = 1\n",
    "    return output\n",
    "\n",
    "for idx, fname in enumerate(zip(warped_images, undist_images)):\n",
    "    warped = cv2.imread(fname[0])\n",
    "    warped = warped[:,:,0]\n",
    "    undist = cv2.imread(fname[1])\n",
    "    \n",
    "    img_size = (undist.shape[1], undist.shape[0])\n",
    "    \n",
    "    # Set up the overall class to do all the tracking\n",
    "    \n",
    "    window_width = 40\n",
    "    window_height = 80\n",
    "    margin = 100    \n",
    "    ym = 40/720\n",
    "    xm = 3.7/700\n",
    "    smooth_factor = 15\n",
    "\n",
    "    \n",
    "    curve_centers = tracker.Tracker(window_width, window_height, margin, ym, xm, smooth_factor)\n",
    "    \n",
    "    window_centroids = curve_centers.find_window_centroids(warped)\n",
    "    \n",
    "    # Points to draw all the left and right windows\n",
    "    l_points = np.zeros_like(warped)\n",
    "    r_points = np.zeros_like(warped)\n",
    "    \n",
    "    # points used to find the left and right lanes\n",
    "    rightx = []\n",
    "    leftx = []\n",
    "    \n",
    "    #print(window_centroids.shape)\n",
    "    #print(window_centroids)\n",
    "    print(window_centroids[:,0])\n",
    "    \n",
    "    # Go through each kevek abd draw the windows\n",
    "    for level in range (0, len(window_centroids)):\n",
    "        # Window_mask is a function to draw window areas\n",
    "        l_mask = window_mask(window_width, window_height, warped, window_centroids[level][0],level)\n",
    "        r_mask = window_mask(window_width, window_height, warped, window_centroids[level][1],level)\n",
    "        \n",
    "        # Add center value found in frame to the list of lane points per left,right:\n",
    "        \n",
    "        leftx.append(window_centroids[level][0])\n",
    "        rightx.append(window_centroids[level][1])\n",
    "        \n",
    "        # Add graphic points from window mask here to total pixels found\n",
    "        l_points[(l_points == 255) | (l_mask ==1) ] = 255\n",
    "        r_points[(r_points == 255) | (r_mask ==1) ] = 255\n",
    "        \n",
    "    # DEBUG\n",
    "    # Draw the results\n",
    "    template = np.array(r_points + l_points, np.uint8) # add both left and right window pixels together\n",
    "    zero_channel = np.zeros_like(template)\n",
    "    template = np.array(cv2.merge((zero_channel, template, zero_channel)), np.uint8)\n",
    "    warpage = np.array(cv2.merge((warped,warped,warped)), np.uint8)\n",
    "    result = cv2.addWeighted(warpage, 1, template, 0.5, 0.0)\n",
    "    \n",
    "    write_name = './output_images/slidewin' + str(idx+1) + '.jpg'\n",
    "    cv2.imwrite(write_name, result)\n",
    "    \n",
    "    \n",
    "    yvals = range(0, warped.shape[0])\n",
    "    \n",
    "    res_yvals = np.arange(warped.shape[0]-(window_height/2),0,-window_height)\n",
    "    \n",
    "    # Fit a second order polynomial to pixel positions in each fake lane line\n",
    "    left_fit = np.polyfit(res_yvals, leftx, 2)\n",
    "    left_fitx = left_fit[0]*yvals*yvals + left_fit[1]*yvals + left_fit[2]\n",
    "    left_fitx = np.array(left_fitx, np.int32)\n",
    "    \n",
    "    right_fit = np.polyfit(res_yvals, rightx, 2)\n",
    "    right_fitx = right_fit[0]*yvals*yvals + right_fit[1]*yvals + right_fit[2]\n",
    "    right_fitx = np.array(right_fitx, np.int32)\n",
    "    \n",
    "    y_eval = np.max(yvals)\n",
    "    \n",
    "    # Calculate Radius in pixels\n",
    "    #left_curverad = ((1 + (2*left_fit[0]*y_eval + left_fit[1])**2)**1.5) / np.absolute(2*left_fit[0])\n",
    "    #right_curverad = ((1 + (2*right_fit[0]*y_eval + right_fit[1])**2)**1.5) / np.absolute(2*right_fit[0])\n",
    "    #print(left_curverad, right_curverad)\n",
    "    \n",
    "    # Radius in Meters\n",
    "    # Fit new polynomials to x,y in world space\n",
    "    ym_per_pix = ym\n",
    "    xm_per_pix = xm\n",
    "    \n",
    "    left_fit_cr = np.polyfit(res_yvals*ym_per_pix, np.asarray(leftx)*xm_per_pix, 2)\n",
    "    right_fit_cr = np.polyfit(res_yvals*ym_per_pix, np.asarray(rightx)*xm_per_pix, 2)\n",
    "    # Calculate the new radius of curvature\n",
    "    left_curverad = ((1 + (2*left_fit_cr[0]*y_eval*ym_per_pix + left_fit_cr[1])**2)**1.5) / np.absolute(2*left_fit_cr[0])\n",
    "    right_curverad = ((1 + (2*right_fit_cr[0]*y_eval*ym_per_pix + right_fit_cr[1])**2)**1.5) / np.absolute(2*right_fit_cr[0])\n",
    "    # Now our radius of curvature is in meters\n",
    "    print(left_curverad, 'm', right_curverad, 'm')\n",
    "    \n",
    "    \n",
    "    # Calculate the lane lines for the unwarped image\n",
    "    left_lane = np.array(list(zip(np.concatenate((left_fitx-window_width/2,left_fitx[::-1]+window_width/2), axis=0)\n",
    "                                 ,np.concatenate((yvals,yvals[::-1]),axis=0))),np.int32)\n",
    "    right_lane = np.array(list(zip(np.concatenate((right_fitx-window_width/2,right_fitx[::-1]+window_width/2), axis=0)\n",
    "                                 ,np.concatenate((yvals,yvals[::-1]),axis=0))),np.int32)\n",
    "    middle_marker = np.array(list(zip(np.concatenate((right_fitx-window_width/2,right_fitx[::-1]+window_width/2), axis=0)\n",
    "                                 ,np.concatenate((yvals,yvals[::-1]),axis=0))),np.int32)\n",
    "    \n",
    "    # Recast the x and y points into usable format for cv2.fillPoly()\n",
    "    pts_left = np.array([np.transpose(np.vstack([left_fitx, yvals]))])\n",
    "    pts_right = np.array([np.flipud(np.transpose(np.vstack([right_fitx, yvals])))])\n",
    "    pts = np.hstack((pts_left, pts_right))\n",
    "\n",
    "    # Draw the lane onto the warped blank image \n",
    "    road = np.zeros_like(undist)\n",
    "    cv2.fillPoly(road, [left_lane], color=[255,0,0])\n",
    "    cv2.fillPoly(road, [right_lane], color=[0,0,255])\n",
    "    cv2.fillPoly(road, np.int_([pts]), (0,255, 0))\n",
    "    \n",
    "    road_warped = cv2.warpPerspective(road, Minv, img_size, flags=cv2.INTER_LINEAR)\n",
    "    result = cv2.addWeighted(undist ,1.0, road_warped, 0.5, 0.0)\n",
    "    \n",
    "    #calculate the offset of the car on the road\n",
    "    camera_center = (left_fitx[-1] + right_fitx[1])/2\n",
    "    center_diff = (camera_center-warped.shape[1]/2)* xm_per_pix\n",
    "    side_pos = 'left'\n",
    "    if center_diff <=0:\n",
    "        side_pos = 'right'\n",
    "    \n",
    "    print('Vehicle is '+ str(abs(round(center_diff,3))) + 'm ' + side_pos + 'off center')\n",
    "    \n",
    "    write_name = './output_images/result' + str(idx+1) + '.jpg'\n",
    "    cv2.imwrite(write_name, result)\n",
    "    \n",
    "    # Plot up the sliding windows and calculated lanes\n",
    "    mark_size = 3\n",
    "    plt.imshow(result)\n",
    "    #plt.xlim(0, 1280)\n",
    "    #plt.ylim(0, 720)\n",
    "    #plt.plot(left_fitx, yvals, color='red', linewidth=3)\n",
    "    #plt.plot(right_fitx, yvals, color='red', linewidth=3)\n",
    "    #plt.gca().invert_yaxis() # to visualize as we do the images\n",
    "    plt.show()\n",
    "\n",
    "    "
   ]
  },
  {
   "cell_type": "markdown",
   "metadata": {},
   "source": [
    "# Pipeline"
   ]
  },
  {
   "cell_type": "code",
   "execution_count": 7,
   "metadata": {
    "collapsed": true
   },
   "outputs": [],
   "source": [
    "# Import everything needed to edit/save/watch video clips\n",
    "from moviepy.editor import VideoFileClip\n",
    "from IPython.display import HTML"
   ]
  },
  {
   "cell_type": "code",
   "execution_count": 8,
   "metadata": {
    "collapsed": false
   },
   "outputs": [],
   "source": [
    "import tracker\n",
    "import line\n",
    "\n",
    "window_width = 30\n",
    "window_height = 80\n",
    "margin = 75    \n",
    "ym = 40/720\n",
    "xm = 3.7/700\n",
    "smooth_factor_centroids = 10\n",
    "smooth_factor_polynoms = 5\n",
    "img_shape = (720,1280,3)\n",
    "\n",
    "curverad = 0\n",
    "\n",
    "#Instantiate tracker Class object that will process all the frames in the sequence\n",
    "pipeline_tracker = tracker.Tracker(window_width, window_height, margin, ym, xm, smooth_factor_centroids)\n",
    "pipeline_left_lane = line.Line(img_shape, window_height, window_width, ym, xm, smooth_factor_polynoms)\n",
    "pipeline_right_lane = line.Line(img_shape, window_height, window_width, ym, xm, smooth_factor_polynoms)\n",
    "\n",
    "# We load the distorsion pickle file data obtained in section 'Step 1' above\n",
    "dist_pickle = pickle.load( open( \"camera_cal/calibration_pickle.p\", \"rb\"))\n",
    "mtx = dist_pickle[\"mtx\"]\n",
    "dist = dist_pickle[\"dist\"]\n",
    "\n",
    "def process_frame(image):\n",
    "\n",
    "    img_size = (image.shape[1], image.shape[0])\n",
    "\n",
    "    # STEP 1. UNDISTORT\n",
    "    ###################\n",
    "    img = cv2.undistort(image, mtx, dist, None, mtx)\n",
    "    \n",
    "    # STEP 2. LANE LINES BORDERS DETECTION (BINARY)\n",
    "    ###############################################\n",
    "    binary_img = detect_line_borders(img)\n",
    "    \n",
    "    # STEP 3. PERSPECTIVE TRANSFORM\n",
    "    ###################################################\n",
    "    warped_img = perspective_transform_warp(binary_img)\n",
    "    \n",
    "    # STEPS 4,5,6. DETECT AND FIT LINES\n",
    "    ###################################################\n",
    "    yvals = range(0, warped_img.shape[0])\n",
    "    \n",
    "    window_centroids = pipeline_tracker.find_window_centroids(warped_img)\n",
    "    pipeline_left_lane.update_centroids(window_centroids[:,0])\n",
    "    pipeline_right_lane.update_centroids(window_centroids[:,1])\n",
    "    \n",
    "    left_fitx, _ = pipeline_left_lane.line_fit()\n",
    "    right_fitx, _ = pipeline_right_lane.line_fit()\n",
    "    \n",
    "    left_lane_polygon = pipeline_left_lane.get_lane_for_drawing()\n",
    "    right_lane_polygon = pipeline_right_lane.get_lane_for_drawing()\n",
    "    \n",
    "    # Recast the x and y points into usable format for cv2.fillPoly()\n",
    "    pts_left = np.array([np.transpose(np.vstack([left_fitx, yvals]))])\n",
    "    pts_right = np.array([np.flipud(np.transpose(np.vstack([right_fitx, yvals])))])\n",
    "    pts = np.hstack((pts_left, pts_right))\n",
    "    \n",
    "    left_curverad = pipeline_left_lane.get_line_curvature()\n",
    "    right_curverad = pipeline_right_lane.get_line_curvature()\n",
    "    \n",
    "    curverad = (left_curverad + right_curverad) / 2.0\n",
    "    \n",
    "    #calculate the offset of the car on the road\n",
    "    camera_center = (left_fitx[-1] + right_fitx[1])/2\n",
    "    center_diff = (camera_center-warped_img.shape[1]/2)* xm\n",
    "    side_pos = 'left'\n",
    "    if center_diff <=0:\n",
    "        side_pos = 'right'\n",
    "    \n",
    "    # Draw the lane onto the warped blank image \n",
    "    road = np.zeros_like(img)\n",
    "    cv2.fillPoly(road, [left_lane_polygon], color=[255,0,0])\n",
    "    cv2.fillPoly(road, [right_lane_polygon], color=[0,0,255])\n",
    "    cv2.fillPoly(road, np.int_([pts]), (0,255, 0))\n",
    "    \n",
    "    road_warped = cv2.warpPerspective(road, Minv, img_size, flags=cv2.INTER_LINEAR)\n",
    "    result = cv2.addWeighted(image ,1.0, road_warped, 0.5, 0.0)\n",
    "    \n",
    "    # Draw the text showing curvature and offset\n",
    "    cv2.putText(result, 'Radius of Curvature = '+str(round(curverad,3))+'m ',(50,50)\n",
    "                ,cv2.FONT_HERSHEY_SIMPLEX, 1, (255,255,255),2)\n",
    "    cv2.putText(result, 'Vehicle is ' + str(abs(round(center_diff, 3))) +'m '+side_pos+' of center',\n",
    "                (50,100), cv2.FONT_HERSHEY_SIMPLEX, 1, (255,255,0),2)\n",
    "    \n",
    "    \n",
    "    \n",
    "    return result"
   ]
  },
  {
   "cell_type": "markdown",
   "metadata": {},
   "source": [
    "Try the pipeline with the provided video 'project_video.mp4'"
   ]
  },
  {
   "cell_type": "code",
   "execution_count": 9,
   "metadata": {
    "collapsed": false
   },
   "outputs": [
    {
     "name": "stdout",
     "output_type": "stream",
     "text": [
      "[MoviePy] >>>> Building video output_video.mp4\n",
      "[MoviePy] Writing video output_video.mp4\n"
     ]
    },
    {
     "name": "stderr",
     "output_type": "stream",
     "text": [
      "100%|█████████▉| 1260/1261 [06:12<00:00,  3.18it/s]\n"
     ]
    },
    {
     "name": "stdout",
     "output_type": "stream",
     "text": [
      "[MoviePy] Done.\n",
      "[MoviePy] >>>> Video ready: output_video.mp4 \n",
      "\n",
      "CPU times: user 5min 49s, sys: 1min 15s, total: 7min 4s\n",
      "Wall time: 6min 14s\n"
     ]
    }
   ],
   "source": [
    "output_file = 'output_video.mp4'\n",
    "clip1 = VideoFileClip(\"project_video.mp4\")\n",
    "\n",
    "output_clip = clip1.fl_image(process_frame)\n",
    "%time output_clip.write_videofile(output_file, audio=False)\n",
    "\n"
   ]
  },
  {
   "cell_type": "code",
   "execution_count": null,
   "metadata": {
    "collapsed": true
   },
   "outputs": [],
   "source": []
  }
 ],
 "metadata": {
  "kernelspec": {
   "display_name": "Python 3",
   "language": "python",
   "name": "python3"
  },
  "language_info": {
   "codemirror_mode": {
    "name": "ipython",
    "version": 3
   },
   "file_extension": ".py",
   "mimetype": "text/x-python",
   "name": "python",
   "nbconvert_exporter": "python",
   "pygments_lexer": "ipython3",
   "version": "3.5.2"
  },
  "widgets": {
   "state": {},
   "version": "1.1.2"
  }
 },
 "nbformat": 4,
 "nbformat_minor": 2
}
